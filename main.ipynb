{
 "cells": [
  {
   "cell_type": "code",
   "execution_count": 1,
   "metadata": {
    "executionInfo": {
     "elapsed": 12,
     "status": "ok",
     "timestamp": 1666290833946,
     "user": {
      "displayName": "Dima Cho",
      "userId": "13241364511832483273"
     },
     "user_tz": -180
    },
    "id": "KKXUoibLXGEU",
    "tags": []
   },
   "outputs": [],
   "source": [
    "import cv2\n",
    "import uuid\n",
    "import h5py\n",
    "import time\n",
    "import tqdm\n",
    "import shutil\n",
    "import pathlib\n",
    "import warnings\n",
    "\n",
    "warnings.filterwarnings('ignore')\n",
    "\n",
    "import numpy as np\n",
    "import matplotlib.pyplot as plt\n",
    "import matplotlib\n",
    "\n",
    "import tensorflow as tf\n",
    "from tensorflow.keras import Model, Input\n",
    "from tensorflow.keras.metrics import Precision, Recall\n",
    "from tensorflow.keras.layers import Dense, Conv2D, MaxPool2D, Flatten, Layer\n",
    "\n",
    "gpus = tf.config.experimental.list_physical_devices('GPU')\n",
    "for gpu in gpus: \n",
    "    tf.config.experimental.set_memory_growth(gpu, True)\n",
    "del gpu, gpus\n",
    "\n",
    "matplotlib.style.use('dark_background')\n",
    "%matplotlib inline"
   ]
  },
  {
   "cell_type": "markdown",
   "metadata": {
    "id": "EEKzZqlZf4DP"
   },
   "source": [
    "## __Константы__"
   ]
  },
  {
   "cell_type": "code",
   "execution_count": 2,
   "metadata": {
    "executionInfo": {
     "elapsed": 7,
     "status": "ok",
     "timestamp": 1666294291534,
     "user": {
      "displayName": "Dima Cho",
      "userId": "13241364511832483273"
     },
     "user_tz": -180
    },
    "id": "AfDehjidfv08"
   },
   "outputs": [],
   "source": [
    "POSITIVE_DATA_PATH = pathlib.Path('positive')\n",
    "NEGATIVE_DATA_PATH = pathlib.Path('negative')\n",
    "ANCHOR_DATA_PATH   = pathlib.Path('anchor')\n",
    "\n",
    "IMAGE_SIZE         = (105, 105)\n",
    "BATCH_SIZE         = 32\n",
    "AUTOTUNE           = tf.data.experimental.AUTOTUNE\n",
    "\n",
    "FACE_DETECTOR      = cv2.dnn.readNetFromCaffe(\n",
    "    'cascades/deploy.prototxt.txt', \n",
    "    'cascades/res10_300x300_ssd_iter_140000.caffemodel'\n",
    ")"
   ]
  },
  {
   "cell_type": "markdown",
   "metadata": {
    "id": "geoOpGnvslqA",
    "tags": []
   },
   "source": [
    "## __API__"
   ]
  },
  {
   "cell_type": "markdown",
   "metadata": {
    "id": "8Bo01bTHfZtN"
   },
   "source": [
    "## **Содержание**\n",
    "\n",
    "#### 1. **[Загрузка данных](#download)**\n",
    "#### 2. **[Обработка данных](#process)**\n",
    "#### 3. **[Построение модели](#build-it)**\n",
    "#### 4. **[Обучение модели](#teach-it)**\n",
    "#### 5. **[Валидация модели](#validate)**\n",
    "#### 6. **[Выгрузка модели](#upload)**\n",
    "#### 7. **[Проверка на реальном примере](#real-time)**"
   ]
  },
  {
   "cell_type": "markdown",
   "metadata": {
    "id": "4qG3Mfgzf4LW"
   },
   "source": [
    "<a name=\"download\"></a>\n",
    "#### 1. **Загрузка данных**"
   ]
  },
  {
   "cell_type": "code",
   "execution_count": 3,
   "metadata": {
    "jupyter": {
     "source_hidden": true
    },
    "tags": []
   },
   "outputs": [],
   "source": [
    "class DataLoader:\n",
    "    \"\"\"Data workflow for downloading, moving and getting lfw and external data.\n",
    "    \n",
    "    Attributes\n",
    "    ----------\n",
    "    url: str\n",
    "        The url source from which the file will be downloaded.\n",
    "    storage_file: str\n",
    "        Name of the file in which will data be stored.\n",
    "    dataset_path: str\n",
    "        Path to the donwloaded lfw dataset.\n",
    "    \"\"\"\n",
    "    url          = 'http://vis-www.cs.umass.edu/lfw/lfw.tgz'\n",
    "    storage_file = 'lfw.h5'\n",
    "    \n",
    "    def __init__(self, url: str=None, storage_file: str=None) -> None:\n",
    "        self.url           = url if url else self.url\n",
    "        self.storage_file  = storage_file if storage_file else self.storage_file\n",
    "        self._dataset_path = None\n",
    "    \n",
    "    @property\n",
    "    def dataset_path(self) -> str:\n",
    "        \"\"\"Gets dataset_path.\n",
    "        \n",
    "        Returns\n",
    "        -------\n",
    "        str: Path to the donwloaded lfw dataset.\n",
    "        \"\"\"\n",
    "        return self._dataset_path\n",
    "    \n",
    "    @dataset_path.setter\n",
    "    def dataset_path(self, dataset_path: str) -> None:\n",
    "        \"\"\"Sets dataset_path, if required.\n",
    "        \n",
    "        Attributes\n",
    "        ----------\n",
    "        dataset_path: str\n",
    "            Path to a dataset.\n",
    "        \"\"\"\n",
    "        self._dataset_path = dataset_path\n",
    "    \n",
    "    def download_lfw_dataset(self) -> (str, bool):\n",
    "        \"\"\"Download lfw dataset and sets dataset_path attribute.\n",
    "        \n",
    "        Returns\n",
    "        -------\n",
    "        str: status message of execution.\n",
    "        bool: status integer.\n",
    "        \"\"\"\n",
    "        try:\n",
    "            self._dataset_path = tf.keras.utils.get_file(\n",
    "                fname='lfw',\n",
    "                origin=self.url, \n",
    "                untar=True\n",
    "            )\n",
    "            return 'LFW dataset was successfully downloaded!', 1\n",
    "        \n",
    "        except Exception as e:\n",
    "            return e, 0\n",
    "    \n",
    "    def save(self, data: np.ndarray, dataset: str) -> (str, bool):\n",
    "        \"\"\"Saves specified data to the storage_file.\n",
    "        \n",
    "        Attributes\n",
    "        ----------\n",
    "        data: np.ndarray\n",
    "            Single or collection of data which will be saved to the storage_file.\n",
    "        dataset: str\n",
    "            Dataset name.\n",
    "        \n",
    "        Returns\n",
    "        -------\n",
    "        str: status message of execution.\n",
    "        bool: status integer.\n",
    "        \"\"\"\n",
    "        try:\n",
    "            with h5py.File(self.storage_file, 'a', driver=None) as h5:\n",
    "                h5.create_dataset(\n",
    "                    dataset, shape=data.shape, dtype=h5py.h5t.IEEE_F16BE, data=data\n",
    "                )\n",
    "\n",
    "            return f'Data was successfully saved in {self.storage_file}!', 1\n",
    "        \n",
    "        except Exception as e:\n",
    "            return e, 0\n",
    "    \n",
    "    def load(self, dataset: str) -> (np.ndarray | None, str, bool):\n",
    "        \"\"\"Loads specified data to the storage_file.\n",
    "        \n",
    "        Attributes\n",
    "        ----------\n",
    "        dataset: str\n",
    "            Dataset name.\n",
    "        \n",
    "        Returns\n",
    "        -------\n",
    "        np.ndarray | None: loaded data. If None was returned, an error occured.\n",
    "        str: status message of execution.\n",
    "        bool: status integer.\n",
    "        \"\"\"\n",
    "        try:\n",
    "            data_file = h5py.File(self.storage_file, 'r', driver=None)\n",
    "            data = np.array(data_file[f'/{dataset}']).astype('float32')\n",
    "            data_file.close()\n",
    "            return data, f'Data was successfully loaded from {self.storage_file}', 1\n",
    "        \n",
    "        except Exception as e:\n",
    "            return None, e, 0\n",
    "    \n",
    "    def delete(self) -> (str, bool):\n",
    "        \"\"\"Deletes the storage_file.\n",
    "        \n",
    "        Returns\n",
    "        -------\n",
    "        str: status message of execution.\n",
    "        bool: status integer.\n",
    "        \"\"\"\n",
    "        try:\n",
    "            pathlib.Path(self.storage_file).unlink()\n",
    "            return f'{self.storage_file} was successfully deleted!', 1\n",
    "        except Exception as e:\n",
    "            return e, 0"
   ]
  },
  {
   "cell_type": "code",
   "execution_count": 4,
   "metadata": {
    "jupyter": {
     "source_hidden": true
    },
    "tags": []
   },
   "outputs": [],
   "source": [
    "def load_positive_negative_anchor_images_to_h5(\n",
    "    temp_anchor_path: str, temp_positive_path: str, temp_negative_path: str, data_loader: DataLoader\n",
    ") -> (str, bool):\n",
    "    \"\"\"Loads anchor, positive and negative images from temporary directories to h5 storage.\n",
    "    \n",
    "    Attributes\n",
    "    ----------\n",
    "    temp_anchor_path: str\n",
    "        Temporary anchor directory of images that will be uploaded.\n",
    "    temp_positive_path: str\n",
    "        Temporary positive directory of images that will be uploaded.\n",
    "    temp_negative_path: str\n",
    "        Temporary negative directory of images that will be uploaded.\n",
    "    data_loader: DataLoader\n",
    "        The DataLoader object that will be used to upload data.\n",
    "    \n",
    "    Returns\n",
    "    -------\n",
    "        str: status message of execution.\n",
    "        bool: status integer.\n",
    "    \"\"\"\n",
    "    anchor_images_buffer   = []\n",
    "    positive_images_buffer = []\n",
    "    negative_images_buffer = []\n",
    "    \n",
    "    temp_anchor_path   = pathlib.Path(temp_anchor_path)\n",
    "    temp_positive_path = pathlib.Path(temp_positive_path)\n",
    "    temp_negative_path = pathlib.Path(temp_negative_path)\n",
    "    \n",
    "    try:\n",
    "        anchor_iter   = list(temp_anchor_path.glob('*.jpg'))\n",
    "        positive_iter = list(temp_positive_path.glob('*.jpg'))\n",
    "        negative_iter = list(temp_negative_path.glob('*/*'))\n",
    "        \n",
    "        np.random.shuffle(anchor_iter)\n",
    "        np.random.shuffle(positive_iter)\n",
    "        np.random.shuffle(negative_iter)\n",
    "\n",
    "        for anchor_image_path, positive_image_path in zip(anchor_iter, positive_iter):\n",
    "            anchor_image   = tf.keras.utils.load_img(anchor_image_path)\n",
    "            positive_image = tf.keras.utils.load_img(positive_image_path)\n",
    "\n",
    "            anchor_image   = tf.keras.utils.img_to_array(anchor_image)\n",
    "            positive_image = tf.keras.utils.img_to_array(positive_image)\n",
    "\n",
    "            anchor_images_buffer.append(anchor_image)\n",
    "            positive_images_buffer.append(positive_image)\n",
    "        \n",
    "        for i, negative_image_path in enumerate(negative_iter):\n",
    "            negative_image = tf.keras.utils.load_img(negative_image_path)\n",
    "            negative_image = tf.keras.utils.img_to_array(negative_image)\n",
    "            negative_images_buffer.append(negative_image)\n",
    "            if i == len(anchor_images_buffer) - 1:\n",
    "                break\n",
    "        \n",
    "        anchor_images_buffer   = np.array(anchor_images_buffer)\n",
    "        positive_images_buffer = np.array(positive_images_buffer)\n",
    "        negative_images_buffer = np.array(negative_images_buffer)\n",
    "        \n",
    "        data_loader.save(anchor_images_buffer, dataset=str(ANCHOR_DATA_PATH))\n",
    "        data_loader.save(positive_images_buffer, dataset=str(POSITIVE_DATA_PATH))\n",
    "        data_loader.save(negative_images_buffer, dataset=str(NEGATIVE_DATA_PATH))\n",
    "        \n",
    "        return \"Data is successfully saved to .h5!\", 1\n",
    "    \n",
    "    except Exception as e:\n",
    "        return e, 0"
   ]
  },
  {
   "cell_type": "code",
   "execution_count": 5,
   "metadata": {
    "jupyter": {
     "source_hidden": true
    },
    "tags": []
   },
   "outputs": [],
   "source": [
    "def get_faces(image: np.ndarray) -> (np.ndarray, int, int):\n",
    "    \"\"\"Apply faces detector to the image.\n",
    "    \n",
    "    Attributes\n",
    "    ----------\n",
    "    image: np.ndarray\n",
    "        The image on which faces will be detected.\n",
    "\n",
    "    Returns\n",
    "    -------\n",
    "    np.ndarray: ndarray of faces with specifications.\n",
    "    int: its width.\n",
    "    int: its height.\n",
    "    \"\"\"\n",
    "    height, width = image.shape[:2]\n",
    "    blob = cv2.dnn.blobFromImage(\n",
    "        cv2.resize(image, (300, 300)),\n",
    "        1,\n",
    "        (300, 300),\n",
    "        (104, 117, 123)\n",
    "    )\n",
    "    FACE_DETECTOR.setInput(blob)\n",
    "    faces = FACE_DETECTOR.forward()\n",
    "    faces_buff = [(confidence, \\\n",
    "                   int(x1 * width), int(y1 * height), \\\n",
    "                   int(x2 * width), int(y2 * height)) \\\n",
    "                 for _, _, confidence, x1, y1, x2, y2 \\\n",
    "                 in faces[0, 0] if confidence > 0.9]\n",
    "    \n",
    "    if faces_buff == []:\n",
    "        return None, None, None, None\n",
    "    \n",
    "    _, x1, y1, x2, y2 = max(faces_buff, key=lambda x: x[0])\n",
    "    return x1, y1, x2, y2"
   ]
  },
  {
   "cell_type": "code",
   "execution_count": 6,
   "metadata": {
    "jupyter": {
     "source_hidden": true
    },
    "tags": []
   },
   "outputs": [],
   "source": [
    "def record_positive_anchor_images(\n",
    "    n_samples: int=300,\n",
    "    create_new: bool=False,\n",
    "    snap: bool=False,\n",
    "    prefix: str=None\n",
    ") -> (pathlib.Path, pathlib.Path):\n",
    "    \"\"\"OpenCV real time positive and anchor images receiver.\n",
    "    \n",
    "    Parameters\n",
    "    ----------\n",
    "    n_samples: int, default=300\n",
    "        The amount of images will be taken. Both the anchor and the positive directories will have a half of them.\n",
    "    create_new: bool, default=False\n",
    "        Whether to truncate existing folders with positive and anchor images or not.\n",
    "    no_snap: bool, default=False\n",
    "        Whether to do snaps of the face or not.\n",
    "    prefix: str\n",
    "        Prefix of the images names. Required, if no_snap equals False\n",
    "    \n",
    "    Returns\n",
    "    -------\n",
    "    pathlib.Path: temporary path to the anchor images directory.\n",
    "    pathlib.Path: temporary path to the positive images directory.\n",
    "    \"\"\"\n",
    "    if snap:\n",
    "        assert prefix is not None, \"Prefix is required while snap is True!\"\n",
    "    \n",
    "    data_dir     = pathlib.Path('data')\n",
    "    positive_dir = data_dir / 'positive'\n",
    "    anchor_dir   = data_dir / 'anchor'\n",
    "    metadata     = pathlib.Path('metadata')\n",
    "    \n",
    "    if create_new:\n",
    "        try:\n",
    "            shutil.rmtree(data_dir)\n",
    "        except FileNotFoundError:\n",
    "            pass\n",
    "    \n",
    "    if not data_dir.exists():\n",
    "        data_dir.mkdir()\n",
    "    if not positive_dir.exists():\n",
    "        positive_dir.mkdir()\n",
    "    if not anchor_dir.exists():\n",
    "        anchor_dir.mkdir()\n",
    "    \n",
    "    rate = 0\n",
    "    if snap:\n",
    "        cam = cv2.VideoCapture(cv2.CAP_ANY)\n",
    "        uid = uuid.uuid1()\n",
    "        counter = 0\n",
    "\n",
    "        pbar = tqdm.tqdm(total=n_samples)\n",
    "        while cam.isOpened():\n",
    "            _, frame = cam.read()\n",
    "            frame = np.flip(frame, axis=1)\n",
    "            cv2.imshow('Recording in progress...', frame)\n",
    "            x1, y1, x2, y2 = get_faces(frame)\n",
    "            \n",
    "            if x1 and y1 and x2 and y2:\n",
    "                if not (rate % 3):\n",
    "                    frame = cv2.resize(frame[y1:y2, x1:x2], (250, 250))\n",
    "\n",
    "                    if counter < n_samples // 2:\n",
    "                        path = anchor_dir / f'{prefix}_{str(uid)}.jpg'\n",
    "                        cv2.imwrite(str(path), frame)\n",
    "                    else:\n",
    "                        path = positive_dir / f'{prefix}_{str(uid)}.jpg'\n",
    "                        cv2.imwrite(str(path), frame)\n",
    "\n",
    "                    uid = uuid.uuid1()\n",
    "                    counter += 1\n",
    "                    pbar.update(1)\n",
    "\n",
    "                rate += 1\n",
    "                    \n",
    "            if cv2.waitKey(1) & 0xFF == ord('q') or counter == n_samples:\n",
    "                cam.release()\n",
    "                \n",
    "        with open(data_dir / metadata, 'a' if (data_dir / metadata).exists() else 'w') as f:\n",
    "            f.write(prefix + '\\n')\n",
    "        \n",
    "        cv2.destroyAllWindows()\n",
    "    \n",
    "    return anchor_dir, positive_dir"
   ]
  },
  {
   "cell_type": "code",
   "execution_count": 7,
   "metadata": {},
   "outputs": [
    {
     "data": {
      "text/plain": [
       "('LFW dataset was successfully downloaded!', 1)"
      ]
     },
     "execution_count": 7,
     "metadata": {},
     "output_type": "execute_result"
    }
   ],
   "source": [
    "data_loader = DataLoader()\n",
    "data_loader.download_lfw_dataset()"
   ]
  },
  {
   "cell_type": "code",
   "execution_count": 8,
   "metadata": {
    "tags": []
   },
   "outputs": [],
   "source": [
    "temp_negative_path = data_loader.dataset_path"
   ]
  },
  {
   "cell_type": "code",
   "execution_count": 9,
   "metadata": {},
   "outputs": [],
   "source": [
    "temp_anchor_path, temp_positive_path = record_positive_anchor_images(200, create_new=False, snap=False, prefix='Cho_Hyun_Woo')"
   ]
  },
  {
   "cell_type": "code",
   "execution_count": 10,
   "metadata": {},
   "outputs": [
    {
     "data": {
      "text/plain": [
       "('lfw.h5 was successfully deleted!', 1)"
      ]
     },
     "execution_count": 10,
     "metadata": {},
     "output_type": "execute_result"
    }
   ],
   "source": [
    "data_loader.delete()"
   ]
  },
  {
   "cell_type": "code",
   "execution_count": 11,
   "metadata": {},
   "outputs": [
    {
     "data": {
      "text/plain": [
       "('Data is successfully saved to .h5!', 1)"
      ]
     },
     "execution_count": 11,
     "metadata": {},
     "output_type": "execute_result"
    }
   ],
   "source": [
    "load_positive_negative_anchor_images_to_h5(\n",
    "    temp_anchor_path=temp_anchor_path,\n",
    "    temp_positive_path=temp_positive_path,\n",
    "    temp_negative_path=temp_negative_path,\n",
    "    data_loader=data_loader\n",
    ")"
   ]
  },
  {
   "cell_type": "code",
   "execution_count": 12,
   "metadata": {},
   "outputs": [],
   "source": [
    "del temp_anchor_path, temp_positive_path, temp_negative_path"
   ]
  },
  {
   "cell_type": "code",
   "execution_count": 13,
   "metadata": {},
   "outputs": [],
   "source": [
    "anchor_images, _, _   = data_loader.load(str(ANCHOR_DATA_PATH))\n",
    "positive_images, _, _ = data_loader.load(str(POSITIVE_DATA_PATH))\n",
    "negative_images, _, _ = data_loader.load(str(NEGATIVE_DATA_PATH))"
   ]
  },
  {
   "cell_type": "code",
   "execution_count": 14,
   "metadata": {},
   "outputs": [],
   "source": [
    "for i in range(negative_images.shape[0]):\n",
    "    x1, y1, x2, y2 = get_faces(negative_images[i])\n",
    "    if x1 and y1 and x2 and y2:\n",
    "        if x1 >= 0 and y1 >= 0:\n",
    "            face = negative_images[i][y1:y2, x1:x2]\n",
    "        elif x1 < 0 and y1 >= 0:\n",
    "            face = negative_images[i][y1:y2, x2:x1]\n",
    "        elif y1 < 0 and x1 >= 0:\n",
    "            face = negative_images[i][y2:y1, x1:x2]\n",
    "        elif y1 < 0 and x1 < 0:\n",
    "            face = negative_images[i][y2:y1, x2:x1]\n",
    "        \n",
    "        negative_images[i] = cv2.resize(face, (250, 250))\n",
    "del i, x1, y1, x2, y2, face"
   ]
  },
  {
   "cell_type": "markdown",
   "metadata": {},
   "source": [
    "---"
   ]
  },
  {
   "cell_type": "markdown",
   "metadata": {
    "id": "fNQ_pesWf4F8",
    "tags": []
   },
   "source": [
    "<a name=\"process\"></a>\n",
    "#### 2. **Обработка данных**"
   ]
  },
  {
   "cell_type": "code",
   "execution_count": 21,
   "metadata": {
    "tags": []
   },
   "outputs": [],
   "source": [
    "class DataPreprocessor:\n",
    "    \"\"\"Data workflow for downloading, moving and getting data.\n",
    "    \n",
    "    Attributes\n",
    "    ----------\n",
    "    anchor_data: np.ndarray\n",
    "        Anchor images to preprocess.\n",
    "    positive_data: np.ndarray\n",
    "        Positive images to preprocess.\n",
    "    negative_data: np.ndarray\n",
    "        Negative images to preprocess.\n",
    "    \"\"\"\n",
    "    def __init__(self, anchor_images, positive_images, negative_images) -> None:\n",
    "        assert anchor_images.shape[0] == positive_images.shape[0] == negative_images.shape[0], \\\n",
    "        \"Shapes of all positive, negative and anchor datasets must coincide!\"\n",
    "        \n",
    "        self.anchor_images   = anchor_images\n",
    "        self.positive_images = positive_images\n",
    "        self.negative_images = negative_images\n",
    "        self.data_length     = anchor_images.shape[0]\n",
    "    \n",
    "    @staticmethod\n",
    "    def augment_image(image: np.ndarray) -> np.ndarray:\n",
    "        \"\"\"Augment a single image applying following random transformations:\n",
    "        \n",
    "        Brightness adjustment.\n",
    "        Contrast adjustment.\n",
    "        Flip from the left to the right.\n",
    "        Jpeg quality adjustment.\n",
    "        \n",
    "        Attributes\n",
    "        ----------\n",
    "        image: np.ndarray\n",
    "            Input image to augment.\n",
    "        \n",
    "        Returns\n",
    "        -------\n",
    "        np.ndarray: augmented image.\n",
    "        \"\"\"\n",
    "        seed = (42, 42)\n",
    "        image = image / 255\n",
    "        image = tf.image.stateless_random_flip_left_right(image, seed=seed)\n",
    "        image = tf.image.stateless_random_brightness(image, max_delta=0.1, seed=seed)\n",
    "        image = tf.image.stateless_random_contrast(image, lower=0.9, upper=1, seed=seed)\n",
    "        image = tf.image.stateless_random_jpeg_quality(image, min_jpeg_quality=90, max_jpeg_quality=100, seed=seed)\n",
    "        image = tf.image.stateless_random_saturation(image, lower=0.9, upper=1, seed=seed)\n",
    "        image = tf.image.rgb_to_grayscale(image)\n",
    "        image = tf.image.resize(image, IMAGE_SIZE)\n",
    "        \n",
    "        return image\n",
    "        \n",
    "    def preprocess(self) -> None:\n",
    "        \"\"\"Preprocessed inputed images converting them into tf.data.Dataset and applying augmentation.\n",
    "        \"\"\"\n",
    "        self.anchor_images   = tf.data.Dataset.from_tensor_slices(self.anchor_images)\n",
    "        self.positive_images = tf.data.Dataset.from_tensor_slices(self.positive_images)\n",
    "        self.negative_images = tf.data.Dataset.from_tensor_slices(self.negative_images)\n",
    "        \n",
    "        self.anchor_images   = self.anchor_images.map(self.augment_image, num_parallel_calls=AUTOTUNE)\n",
    "        self.positive_images = self.positive_images.map(self.augment_image, num_parallel_calls=AUTOTUNE)\n",
    "        self.negative_images = self.negative_images.map(self.augment_image, num_parallel_calls=AUTOTUNE)\n",
    "    \n",
    "    def assemble_images(self) -> tf.data.Dataset:\n",
    "        \"\"\"Creates corresponding concatendated image dataset with zipped anchor and positive, zipped anchor and negative images.\n",
    "        \n",
    "        Returns\n",
    "        -------\n",
    "        tf.data.Dataset: concatenated image dataset.\n",
    "        \"\"\"\n",
    "        zipped_anchor_positive_images = tf.data.Dataset.zip((\n",
    "            self.anchor_images,\n",
    "            self.positive_images,\n",
    "            tf.data.Dataset.from_tensor_slices(tf.ones(self.data_length))\n",
    "        ))\n",
    "        zipped_anchor_negative_images = tf.data.Dataset.zip((\n",
    "            self.anchor_images,\n",
    "            self.negative_images,\n",
    "            tf.data.Dataset.from_tensor_slices(tf.zeros(self.data_length))\n",
    "        ))\n",
    "        return tf.data.Dataset.concatenate(\n",
    "            zipped_anchor_positive_images,\n",
    "            zipped_anchor_negative_images\n",
    "        )\n",
    "    \n",
    "    def train_test_validation_split(self, test_size: float) -> (tf.data.Dataset, tf.data.Dataset, tf.data.Dataset):\n",
    "        \"\"\"Splits concatenated image dataset on train, test and validation datasets.\n",
    "        \n",
    "        Attributes\n",
    "        ----------\n",
    "        test_size: float\n",
    "            The fraction of data will be taken from concatenated image dataset for test split.\n",
    "        \n",
    "        Returns\n",
    "        -------\n",
    "        tf.data.Dataset: train split dataset.\n",
    "        tf.data.Dataset: test split dataset.\n",
    "        \"\"\"\n",
    "        assert test_size < 1, \"Test fraction size must be less than 1!\"\n",
    "        \n",
    "        concatenated_images = self.assemble_images()\n",
    "        new_data_length     = self.data_length * 2\n",
    "        concatenated_images = concatenated_images.shuffle(buffer_size=new_data_length, seed=42)\n",
    "        \n",
    "        train_data = concatenated_images.take(round(new_data_length * (1 - test_size)))\n",
    "        train_data = train_data.batch(BATCH_SIZE)\n",
    "        train_data = train_data.prefetch(BATCH_SIZE // 2)\n",
    "        train_data = train_data.cache()\n",
    "        \n",
    "        test_data  = concatenated_images.skip(round(new_data_length * (1 - test_size)))\n",
    "        test_data  = concatenated_images.take(round(new_data_length * test_size))\n",
    "        test_data  = test_data.batch(BATCH_SIZE)\n",
    "        test_data  = test_data.prefetch(BATCH_SIZE // 2)\n",
    "        test_data  = test_data.cache()\n",
    "        \n",
    "        return train_data, test_data"
   ]
  },
  {
   "cell_type": "code",
   "execution_count": 28,
   "metadata": {},
   "outputs": [
    {
     "name": "stdout",
     "output_type": "stream",
     "text": [
      "0.006563663482666016\n",
      "0.006757497787475586\n"
     ]
    }
   ],
   "source": [
    "start = time.time()\n",
    "data_preprocessor.augment_image(anchor_images[0])\n",
    "print(time.time() - start)"
   ]
  },
  {
   "cell_type": "code",
   "execution_count": 31,
   "metadata": {
    "tags": []
   },
   "outputs": [
    {
     "name": "stdout",
     "output_type": "stream",
     "text": [
      "0.4022786617279053\n"
     ]
    }
   ],
   "source": [
    "import time\n",
    "data_preprocessor = DataPreprocessor(anchor_images, positive_images, negative_images)\n",
    "start = time.time()\n",
    "data_preprocessor.preprocess()\n",
    "print(time.time() - start)"
   ]
  },
  {
   "cell_type": "code",
   "execution_count": 20,
   "metadata": {},
   "outputs": [],
   "source": [
    "train_data, test_data = data_preprocessor.train_test_validation_split(test_size=0.25)"
   ]
  },
  {
   "cell_type": "code",
   "execution_count": 21,
   "metadata": {},
   "outputs": [],
   "source": [
    "del anchor_images, positive_images, negative_images"
   ]
  },
  {
   "cell_type": "markdown",
   "metadata": {},
   "source": [
    "---"
   ]
  },
  {
   "cell_type": "markdown",
   "metadata": {
    "id": "XYA-a0urf3up",
    "tags": []
   },
   "source": [
    "<a name=\"build-it\"></a>\n",
    "#### 3. **Построение модели**"
   ]
  },
  {
   "cell_type": "code",
   "execution_count": 22,
   "metadata": {
    "tags": []
   },
   "outputs": [],
   "source": [
    "class DistanceL2(Layer):\n",
    "    \"\"\"L2 distance layer.\n",
    "    \"\"\"\n",
    "    def __init__(self, **kwargs):\n",
    "        super(DistanceL2, self).__init__(**kwargs)\n",
    "\n",
    "    def call(self, real_embedding, deceptive_embedding):\n",
    "        return tf.math.square(real_embedding - deceptive_embedding)"
   ]
  },
  {
   "cell_type": "code",
   "execution_count": 23,
   "metadata": {
    "id": "n6POht5ii5_r",
    "tags": []
   },
   "outputs": [],
   "source": [
    "class OneHand(Model):\n",
    "    \"\"\"The anchor-positive or anchor-negative models. Part of the main one.\n",
    "    \"\"\"\n",
    "    def __init__(self, **kwargs):\n",
    "        super(OneHand, self).__init__(**kwargs)\n",
    "        self.input_        = Input(shape=(*IMAGE_SIZE, 1), name='input')\n",
    "        self.conv2d_1      = Conv2D(filters=64, kernel_size=(10, 10), activation='relu')\n",
    "        self.max_pooling_1 = MaxPool2D(pool_size=(2, 2), padding='same')\n",
    "        self.conv2d_2      = Conv2D(filters=128, kernel_size=(7, 7), activation='relu')\n",
    "        self.max_pooling_2 = MaxPool2D(pool_size=(2, 2), padding='same')\n",
    "        self.conv2d_3      = Conv2D(filters=128, kernel_size=(4, 4), activation='relu')\n",
    "        self.max_pooling_3 = MaxPool2D(pool_size=(2, 2), padding='same')\n",
    "        self.conv2d_4      = Conv2D(filters=256, kernel_size=(4, 4), activation='relu')\n",
    "        self.flatten_      = Flatten()\n",
    "        self.dense_        = Dense(units=4096, activation='sigmoid')\n",
    "    \n",
    "    def call(self, name=None):\n",
    "        x = self.conv2d_1(self.input_)\n",
    "        x = self.max_pooling_1(x)\n",
    "        x = self.conv2d_2(x)\n",
    "        x = self.max_pooling_2(x)\n",
    "        x = self.conv2d_3(x)\n",
    "        x = self.max_pooling_3(x)\n",
    "        x = self.conv2d_4(x)\n",
    "        x = self.flatten_(x)\n",
    "        outputs = self.dense_(x)\n",
    "        \n",
    "        return Model(inputs=[self.input_], outputs=[outputs], name=name)"
   ]
  },
  {
   "cell_type": "code",
   "execution_count": 24,
   "metadata": {
    "tags": []
   },
   "outputs": [],
   "source": [
    "class SiameseNN(Model):\n",
    "    \"\"\"Siamese neural network.\n",
    "    \"\"\"\n",
    "    def __init__(self, **kwargs):\n",
    "        super(SiameseNN, self).__init__(**kwargs)\n",
    "    \n",
    "    def call(self, name=None):\n",
    "        real_input      = Input(shape=(*IMAGE_SIZE, 1))\n",
    "        deceptive_input = Input(shape=(*IMAGE_SIZE, 1))\n",
    "        \n",
    "        one_hand           = OneHand()('one_hand')\n",
    "        real_one_hand      = one_hand(real_input)\n",
    "        deceptive_one_hand = one_hand(deceptive_input)\n",
    "        \n",
    "        distance_l2 = DistanceL2()\n",
    "        x           = distance_l2(real_one_hand, deceptive_one_hand)\n",
    "        outputs     = Dense(units=1, activation='sigmoid')(x)\n",
    "        \n",
    "        return Model(inputs=[real_input, deceptive_input], outputs=outputs, name=name)"
   ]
  },
  {
   "cell_type": "code",
   "execution_count": 35,
   "metadata": {},
   "outputs": [],
   "source": [
    "model = SiameseNN()('SiameseModel')"
   ]
  },
  {
   "cell_type": "code",
   "execution_count": 36,
   "metadata": {
    "tags": []
   },
   "outputs": [
    {
     "name": "stdout",
     "output_type": "stream",
     "text": [
      "Model: \"SiameseModel\"\n",
      "__________________________________________________________________________________________________\n",
      " Layer (type)                   Output Shape         Param #     Connected to                     \n",
      "==================================================================================================\n",
      " input_5 (InputLayer)           [(None, 105, 105, 1  0           []                               \n",
      "                                )]                                                                \n",
      "                                                                                                  \n",
      " input_6 (InputLayer)           [(None, 105, 105, 1  0           []                               \n",
      "                                )]                                                                \n",
      "                                                                                                  \n",
      " one_hand (Functional)          (None, 4096)         38947648    ['input_5[0][0]',                \n",
      "                                                                  'input_6[0][0]']                \n",
      "                                                                                                  \n",
      " distance_l2_2 (DistanceL2)     (None, 4096)         0           ['one_hand[0][0]',               \n",
      "                                                                  'one_hand[1][0]']               \n",
      "                                                                                                  \n",
      " dense_5 (Dense)                (None, 1)            4097        ['distance_l2_2[0][0]']          \n",
      "                                                                                                  \n",
      "==================================================================================================\n",
      "Total params: 38,951,745\n",
      "Trainable params: 38,951,745\n",
      "Non-trainable params: 0\n",
      "__________________________________________________________________________________________________\n"
     ]
    }
   ],
   "source": [
    "model.summary()"
   ]
  },
  {
   "cell_type": "markdown",
   "metadata": {
    "tags": []
   },
   "source": [
    "<a name=\"teach-it\"></a>\n",
    "#### 4. **Обучение модели**"
   ]
  },
  {
   "cell_type": "code",
   "execution_count": 37,
   "metadata": {
    "jupyter": {
     "source_hidden": true
    },
    "tags": []
   },
   "outputs": [],
   "source": [
    "@tf.function\n",
    "def train_step(batch: tf.Tensor, loss_function: tf.keras.losses.Loss=tf.keras.losses.BinaryCrossentropy()) -> float:\n",
    "    \"\"\"The single step of training model using one batch of data.\n",
    "    \n",
    "    Attributes\n",
    "    ----------\n",
    "    batch: tf.Tensor\n",
    "        A batch of data to train the model.\n",
    "    loss_function: tf.keras.losses.Loss, default=tf.keras.losses.BinaryCrossentropy()\n",
    "        A loss function to adjust weights of training model.\n",
    "    \n",
    "    Returns\n",
    "    -------\n",
    "    float: calculated loss result.\n",
    "    \"\"\"\n",
    "    with tf.GradientTape() as tape:\n",
    "        X = batch[:2]\n",
    "        y = batch[2]\n",
    "    \n",
    "        y_pred = model(X, training=True)\n",
    "        loss = loss_function(y, y_pred)\n",
    "\n",
    "    gradients = tape.gradient(loss, model.trainable_variables)\n",
    "\n",
    "    optimizer.apply_gradients(\n",
    "        zip(gradients, model.trainable_variables)\n",
    "    )\n",
    "\n",
    "    return loss"
   ]
  },
  {
   "cell_type": "code",
   "execution_count": 38,
   "metadata": {
    "jupyter": {
     "source_hidden": true
    },
    "tags": []
   },
   "outputs": [],
   "source": [
    "def benchmark(\n",
    "    data: tf.data.Dataset,\n",
    "    epochs: int,\n",
    "    loss_function: tf.keras.losses.Loss=tf.keras.losses.BinaryCrossentropy(),\n",
    "    checkpoint: tf.train.Checkpoint | None=None,\n",
    "    silent: bool=False\n",
    ") -> dict:\n",
    "    \"\"\"Full cycle of training the inputed SiameseNN model.\n",
    "    \n",
    "    Attirbutes\n",
    "    ----------\n",
    "    model: tf.keras.Model\n",
    "        The model that will be trained.\n",
    "    data: tf.data.Dataset\n",
    "        The data that will be used to train the the inputed model.\n",
    "    epochs: int\n",
    "        The number of epochs to train the the inputed model.\n",
    "    loss_function: tf.keras.losses.Loss, default=tf.keras.losses.BinaryCrossentropy()\n",
    "        A loss function to adjust weights of training model.\n",
    "    checkpoint: tf.train.Checkpoint, default=None\n",
    "        The checkpoint class to save weights.\n",
    "    silent: bool, default=False\n",
    "        Whether or not to show progress bar.\n",
    "        \n",
    "    Returns\n",
    "    -------\n",
    "    dict: the dict of lists of metrics, like loss, precision and recall.\n",
    "    \"\"\"\n",
    "    history = {'loss': [], 'precision': [], 'recall': []}\n",
    "    progbar = None\n",
    "    \n",
    "    if checkpoint is not None:\n",
    "        checkpoints_directory = pathlib.Path('checkpoints')\n",
    "        checkpoints_prefix = checkpoints_directory / 'ckpt'\n",
    "\n",
    "    \n",
    "    for epoch in range(1, epochs+1):\n",
    "        print(f'Epoch {epoch}/{epochs}')\n",
    "        if not silent:\n",
    "            progbar = tf.keras.utils.Progbar(len(data), verbose=1)\n",
    "        \n",
    "        recall    = Recall()\n",
    "        precision = Precision() \n",
    "        \n",
    "        for i, batch in enumerate(data, start=1):\n",
    "            loss   = train_step(batch, loss_function=loss_function)\n",
    "            y_pred = model(batch[:2], training=False)\n",
    "            \n",
    "            recall.update_state(batch[2], y_pred)\n",
    "            precision.update_state(batch[2], y_pred)\n",
    "            if not silent:\n",
    "                progbar.update(i)\n",
    "        \n",
    "        print(f'loss={loss.numpy()} precision={precision.result().numpy()} recall={recall.result().numpy()}')\n",
    "        history['loss'].append(loss.numpy())\n",
    "        history['precision'].append(precision.result().numpy())\n",
    "        history['recall'].append(recall.result().numpy())\n",
    "        \n",
    "        if checkpoint is not None and epoch % 10 == 0:\n",
    "            checkpoint.save(file_prefix=checkpoints_prefix)\n",
    "            \n",
    "    return history"
   ]
  },
  {
   "cell_type": "code",
   "execution_count": 39,
   "metadata": {},
   "outputs": [],
   "source": [
    "EPOCHS        = 50\n",
    "LOSS_FUNCTION = tf.keras.losses.BinaryCrossentropy()"
   ]
  },
  {
   "cell_type": "code",
   "execution_count": 40,
   "metadata": {
    "collapsed": true,
    "jupyter": {
     "outputs_hidden": true
    },
    "tags": []
   },
   "outputs": [
    {
     "name": "stdout",
     "output_type": "stream",
     "text": [
      "Epoch 1/50\n",
      "5/5 [==============================] - 2s 223ms/step\n",
      "loss=0.6852598786354065 precision=0.75 recall=0.3333333432674408\n",
      "Epoch 2/50\n",
      "5/5 [==============================] - 1s 155ms/step\n",
      "loss=0.4538150131702423 precision=0.8611111044883728 recall=0.3827160596847534\n",
      "Epoch 3/50\n",
      "5/5 [==============================] - 1s 155ms/step\n",
      "loss=0.5500621795654297 precision=0.8309859037399292 recall=0.7283950448036194\n",
      "Epoch 4/50\n",
      "5/5 [==============================] - 1s 155ms/step\n",
      "loss=0.5884055495262146 precision=0.6477272510528564 recall=0.7037037014961243\n",
      "Epoch 5/50\n",
      "5/5 [==============================] - 1s 156ms/step\n",
      "loss=0.452488511800766 precision=0.746666669845581 recall=0.6913580298423767\n",
      "Epoch 6/50\n",
      "5/5 [==============================] - 1s 162ms/step\n",
      "loss=0.5144887566566467 precision=0.7792207598686218 recall=0.7407407164573669\n",
      "Epoch 7/50\n",
      "5/5 [==============================] - 1s 162ms/step\n",
      "loss=0.3705010414123535 precision=0.862500011920929 recall=0.8518518805503845\n",
      "Epoch 8/50\n",
      "5/5 [==============================] - 1s 162ms/step\n",
      "loss=0.3507099449634552 precision=0.9367088675498962 recall=0.9135802388191223\n",
      "Epoch 9/50\n",
      "5/5 [==============================] - 1s 156ms/step\n",
      "loss=0.23006993532180786 precision=0.9876543283462524 recall=0.9876543283462524\n",
      "Epoch 10/50\n",
      "5/5 [==============================] - 1s 158ms/step\n",
      "loss=0.18499356508255005 precision=0.9390243887901306 recall=0.9506173133850098\n",
      "Epoch 11/50\n",
      "5/5 [==============================] - 1s 159ms/step\n",
      "loss=0.18994708359241486 precision=0.9615384340286255 recall=0.9259259104728699\n",
      "Epoch 12/50\n",
      "5/5 [==============================] - 1s 152ms/step\n",
      "loss=0.12324389815330505 precision=0.9624999761581421 recall=0.9506173133850098\n",
      "Epoch 13/50\n",
      "5/5 [==============================] - 1s 153ms/step\n",
      "loss=0.11895615607500076 precision=0.9506173133850098 recall=0.9506173133850098\n",
      "Epoch 14/50\n",
      "5/5 [==============================] - 1s 159ms/step\n",
      "loss=0.10786665230989456 precision=0.9512194991111755 recall=0.9629629850387573\n",
      "Epoch 15/50\n",
      "5/5 [==============================] - 1s 159ms/step\n",
      "loss=0.07024350017309189 precision=0.9876543283462524 recall=0.9876543283462524\n",
      "Epoch 16/50\n",
      "5/5 [==============================] - 1s 157ms/step\n",
      "loss=0.047133468091487885 precision=0.987500011920929 recall=0.9753086566925049\n",
      "Epoch 17/50\n",
      "5/5 [==============================] - 1s 152ms/step\n",
      "loss=0.03503521904349327 precision=1.0 recall=0.9876543283462524\n",
      "Epoch 18/50\n",
      "5/5 [==============================] - 1s 162ms/step\n",
      "loss=0.02751886658370495 precision=1.0 recall=0.9876543283462524\n",
      "Epoch 19/50\n",
      "5/5 [==============================] - 1s 154ms/step\n",
      "loss=0.02459775283932686 precision=1.0 recall=1.0\n",
      "Epoch 20/50\n",
      "5/5 [==============================] - 1s 156ms/step\n",
      "loss=0.023129498586058617 precision=1.0 recall=1.0\n",
      "Epoch 21/50\n",
      "5/5 [==============================] - 1s 153ms/step\n",
      "loss=0.02080451138317585 precision=1.0 recall=1.0\n",
      "Epoch 22/50\n",
      "5/5 [==============================] - 1s 161ms/step\n",
      "loss=0.018170678988099098 precision=1.0 recall=1.0\n",
      "Epoch 23/50\n",
      "5/5 [==============================] - 1s 158ms/step\n",
      "loss=0.01634855754673481 precision=1.0 recall=1.0\n",
      "Epoch 24/50\n",
      "5/5 [==============================] - 1s 161ms/step\n",
      "loss=0.014898709021508694 precision=1.0 recall=1.0\n",
      "Epoch 25/50\n",
      "5/5 [==============================] - 1s 157ms/step\n",
      "loss=0.013756760396063328 precision=1.0 recall=1.0\n",
      "Epoch 26/50\n",
      "5/5 [==============================] - 1s 155ms/step\n",
      "loss=0.01163849513977766 precision=1.0 recall=1.0\n",
      "Epoch 27/50\n",
      "5/5 [==============================] - 1s 155ms/step\n",
      "loss=0.011324369348585606 precision=1.0 recall=1.0\n",
      "Epoch 28/50\n",
      "5/5 [==============================] - 1s 158ms/step\n",
      "loss=0.012299650348722935 precision=1.0 recall=1.0\n",
      "Epoch 29/50\n",
      "5/5 [==============================] - 1s 157ms/step\n",
      "loss=0.011883753351867199 precision=1.0 recall=1.0\n",
      "Epoch 30/50\n",
      "5/5 [==============================] - 1s 164ms/step\n",
      "loss=0.010511660017073154 precision=1.0 recall=1.0\n",
      "Epoch 31/50\n",
      "5/5 [==============================] - 1s 155ms/step\n",
      "loss=0.009467280469834805 precision=1.0 recall=1.0\n",
      "Epoch 32/50\n",
      "5/5 [==============================] - 1s 159ms/step\n",
      "loss=0.008934191428124905 precision=1.0 recall=1.0\n",
      "Epoch 33/50\n",
      "5/5 [==============================] - 1s 159ms/step\n",
      "loss=0.008664802648127079 precision=1.0 recall=1.0\n",
      "Epoch 34/50\n",
      "5/5 [==============================] - 1s 153ms/step\n",
      "loss=0.008535978384315968 precision=1.0 recall=1.0\n",
      "Epoch 35/50\n",
      "5/5 [==============================] - 1s 159ms/step\n",
      "loss=0.008444798178970814 precision=1.0 recall=1.0\n",
      "Epoch 36/50\n",
      "5/5 [==============================] - 1s 159ms/step\n",
      "loss=0.008281207643449306 precision=1.0 recall=1.0\n",
      "Epoch 37/50\n",
      "5/5 [==============================] - 1s 161ms/step\n",
      "loss=0.008023155853152275 precision=1.0 recall=1.0\n",
      "Epoch 38/50\n",
      "5/5 [==============================] - 1s 157ms/step\n",
      "loss=0.007726151961833239 precision=1.0 recall=1.0\n",
      "Epoch 39/50\n",
      "5/5 [==============================] - 1s 160ms/step\n",
      "loss=0.007447983603924513 precision=1.0 recall=1.0\n",
      "Epoch 40/50\n",
      "5/5 [==============================] - 1s 160ms/step\n",
      "loss=0.007213002070784569 precision=1.0 recall=1.0\n",
      "Epoch 41/50\n",
      "5/5 [==============================] - 1s 159ms/step\n",
      "loss=0.0070185791701078415 precision=1.0 recall=1.0\n",
      "Epoch 42/50\n",
      "5/5 [==============================] - 1s 156ms/step\n",
      "loss=0.006850372534245253 precision=1.0 recall=1.0\n",
      "Epoch 43/50\n",
      "5/5 [==============================] - 1s 159ms/step\n",
      "loss=0.006692768540233374 precision=1.0 recall=1.0\n",
      "Epoch 44/50\n",
      "5/5 [==============================] - 1s 150ms/step\n",
      "loss=0.006535467691719532 precision=1.0 recall=1.0\n",
      "Epoch 45/50\n",
      "5/5 [==============================] - 1s 160ms/step\n",
      "loss=0.006375635042786598 precision=1.0 recall=1.0\n",
      "Epoch 46/50\n",
      "5/5 [==============================] - 1s 151ms/step\n",
      "loss=0.006215797271579504 precision=1.0 recall=1.0\n",
      "Epoch 47/50\n",
      "5/5 [==============================] - 1s 154ms/step\n",
      "loss=0.006060166750103235 precision=1.0 recall=1.0\n",
      "Epoch 48/50\n",
      "5/5 [==============================] - 1s 161ms/step\n",
      "loss=0.005911878775805235 precision=1.0 recall=1.0\n",
      "Epoch 49/50\n",
      "5/5 [==============================] - 1s 157ms/step\n",
      "loss=0.0057719494216144085 precision=1.0 recall=1.0\n",
      "Epoch 50/50\n",
      "5/5 [==============================] - 1s 159ms/step\n",
      "loss=0.00563967926427722 precision=1.0 recall=1.0\n"
     ]
    }
   ],
   "source": [
    "optimizer = tf.keras.optimizers.Adam(5e-2)\n",
    "i         = 1\n",
    "\n",
    "model      = SiameseNN()(f'SiameseModel_{i}')\n",
    "checkpoint = tf.train.Checkpoint(optimizer=optimizer, model=model)\n",
    "model.compile(optimizer=optimizer)\n",
    "\n",
    "history = benchmark(train_data, EPOCHS, loss_function=LOSS_FUNCTION, checkpoint=checkpoint)\n",
    "\n",
    "del i, optimizer"
   ]
  },
  {
   "cell_type": "markdown",
   "metadata": {
    "id": "jQSIZFOEf3rk",
    "tags": []
   },
   "source": [
    "<a name=\"validate\"></a>\n",
    "#### 5. **Валидация модели**"
   ]
  },
  {
   "cell_type": "code",
   "execution_count": 41,
   "metadata": {
    "jupyter": {
     "source_hidden": true
    },
    "tags": []
   },
   "outputs": [],
   "source": [
    "def plot_history(history: dict) -> None:\n",
    "    \"\"\"Plots model's history of its losses and metrics.\n",
    "    \n",
    "    Attributes\n",
    "    ----------\n",
    "    history: dict\n",
    "        Dictionary of metrics used while training to evaluate its progress.\n",
    "    \"\"\"\n",
    "    fig, ax = plt.subplots(1, 1)\n",
    "    ax.set_title('Model history')\n",
    "    \n",
    "    for metric in history.keys():\n",
    "        ax.plot(range(1, len(history[metric])+1), history[metric], c=np.random.rand(3), label=metric)\n",
    "\n",
    "    ax.set_xlabel('Epoch')\n",
    "    ax.set_ylabel('Metric value')\n",
    "    ax.legend(fontsize=12)\n",
    "    ax.grid()"
   ]
  },
  {
   "cell_type": "code",
   "execution_count": 42,
   "metadata": {
    "jupyter": {
     "source_hidden": true
    },
    "tags": []
   },
   "outputs": [],
   "source": [
    "def evaluate(test_data: tf.data.Dataset, model) -> None:\n",
    "    \"\"\"Evaluates model with a specified test data using following metrics:\n",
    "    1) Confusion matrix\n",
    "    2) Precision\n",
    "    3) Recall\n",
    "    \n",
    "    Attributes\n",
    "    ----------\n",
    "    \n",
    "    \"\"\"\n",
    "    recall                       = Recall()\n",
    "    precision                    = Precision()\n",
    "    confusion_matrix_true_buffer = []\n",
    "    confusion_matrix_pred_buffer = []\n",
    "\n",
    "    for test_input, test_val, y_true in test_data.as_numpy_iterator():\n",
    "        y_pred = model.predict([test_input, test_val], verbose=0)\n",
    "        y_pred = np.array([1 if prediction > 0.5 else 0 for prediction in y_pred]).astype('float32')\n",
    "        recall.update_state(y_true, y_pred)\n",
    "        precision.update_state(y_true, y_pred)\n",
    "        confusion_matrix_true_buffer.extend(list(y_true))\n",
    "        confusion_matrix_pred_buffer.extend(list(y_pred))\n",
    "\n",
    "    print(f'Recall: {recall.result().numpy()}, Precision: {precision.result().numpy()}')\n",
    "    print(f'Confusion matrix:\\n{tf.math.confusion_matrix(confusion_matrix_true_buffer, confusion_matrix_pred_buffer)}')"
   ]
  },
  {
   "cell_type": "code",
   "execution_count": 43,
   "metadata": {},
   "outputs": [
    {
     "data": {
      "image/png": "[encoded data removed]",
      "text/plain": [
       "<Figure size 640x480 with 1 Axes>"
      ]
     },
     "metadata": {},
     "output_type": "display_data"
    }
   ],
   "source": [
    "plot_history(history)\n",
    "del history"
   ]
  },
  {
   "cell_type": "code",
   "execution_count": 44,
   "metadata": {},
   "outputs": [
    {
     "name": "stdout",
     "output_type": "stream",
     "text": [
      "Recall: 1.0, Precision: 1.0\n",
      "Confusion matrix:\n",
      "[[23  0]\n",
      " [ 0 27]]\n"
     ]
    }
   ],
   "source": [
    "evaluate(test_data, model)"
   ]
  },
  {
   "cell_type": "markdown",
   "metadata": {
    "id": "v2WM55aGf3o6",
    "tags": []
   },
   "source": [
    "<a name=\"upload\"></a>\n",
    "#### 6. **Выгрузка модели**"
   ]
  },
  {
   "cell_type": "code",
   "execution_count": 45,
   "metadata": {
    "jupyter": {
     "source_hidden": true
    },
    "tags": []
   },
   "outputs": [],
   "source": [
    "def copy_files_to_app(update=True):\n",
    "    \"\"\"Copy trained model and positive images to the app storage ('app/src/data/registered').\n",
    "    \n",
    "    Attributes\n",
    "    ----------\n",
    "    update: bool, default=True\n",
    "        Whether or not to update destination path.\n",
    "    \"\"\"\n",
    "    app_source_path = pathlib.Path('app/src')\n",
    "    cascades_path   = pathlib.Path('cascades')\n",
    "    model_path      = pathlib.Path('fr_model.tflite')\n",
    "    data_path       = pathlib.Path('data')\n",
    "    \n",
    "    \n",
    "    if update:\n",
    "        try:\n",
    "            shutil.rmtree(app_source_path / data_path)\n",
    "            shutil.rmtree(app_source_path / cascades_path)\n",
    "        except FileNotFoundError:\n",
    "            pass\n",
    "            \n",
    "    shutil.copytree(data_path, app_source_path / data_path)\n",
    "    shutil.copytree(cascades_path, app_source_path / cascades_path)\n",
    "    shutil.copy(model_path, app_source_path / model_path)"
   ]
  },
  {
   "cell_type": "code",
   "execution_count": 46,
   "metadata": {
    "id": "2FzxGh69i8F7",
    "tags": []
   },
   "outputs": [
    {
     "name": "stderr",
     "output_type": "stream",
     "text": [
      "WARNING:absl:Found untraced functions such as _jit_compiled_convolution_op, _jit_compiled_convolution_op, _jit_compiled_convolution_op, _jit_compiled_convolution_op while saving (showing 4 of 4). These functions will not be directly callable after loading.\n"
     ]
    },
    {
     "name": "stdout",
     "output_type": "stream",
     "text": [
      "INFO:tensorflow:Assets written to: fr_model/assets\n"
     ]
    },
    {
     "name": "stderr",
     "output_type": "stream",
     "text": [
      "INFO:tensorflow:Assets written to: fr_model/assets\n",
      "2022-12-07 07:36:24.570894: W tensorflow/compiler/mlir/lite/python/tf_tfl_flatbuffer_helpers.cc:362] Ignored output_format.\n",
      "2022-12-07 07:36:24.570922: W tensorflow/compiler/mlir/lite/python/tf_tfl_flatbuffer_helpers.cc:365] Ignored drop_control_dependency.\n"
     ]
    }
   ],
   "source": [
    "model.save('fr_model')\n",
    "converter = tf.lite.TFLiteConverter.from_saved_model('fr_model')\n",
    "tflite_model = converter.convert()\n",
    "\n",
    "with open('fr_model.tflite', 'wb') as f:\n",
    "    f.write(tflite_model)\n",
    "del model"
   ]
  },
  {
   "cell_type": "code",
   "execution_count": 47,
   "metadata": {},
   "outputs": [],
   "source": [
    "copy_files_to_app()"
   ]
  },
  {
   "cell_type": "markdown",
   "metadata": {},
   "source": [
    "<a name=\"real-time\"></a>\n",
    "#### 7. **Проверка на реальном примере**"
   ]
  },
  {
   "cell_type": "code",
   "execution_count": 35,
   "metadata": {
    "jupyter": {
     "source_hidden": true
    },
    "tags": []
   },
   "outputs": [],
   "source": [
    "def verify(input_image: np.ndarray | tf.Tensor, detection_threshold: float, verification_threshold: float) -> (list, int):\n",
    "    \"\"\"Verify input_image similarity with the 'data/registered/*' images.\n",
    "    \n",
    "    Attributes\n",
    "    ----------\n",
    "    input_image: np.ndarray | tf.Tensor\n",
    "        The snap made to compare with 'data/registered/*' images.\n",
    "    detection_threshold: float\n",
    "        The threshold at which the result is acceptable to be varified for a single image.\n",
    "    verification_threshold: float\n",
    "        The threshold at which the result is acceptable to be varified for the sum of fractions of all images.\n",
    "    \n",
    "    Returns\n",
    "    -------\n",
    "    list: the results of verifications for each image.\n",
    "    int: 0 or 1. Whether the input_image is verified or not.\n",
    "    \"\"\"\n",
    "    outputs     = []\n",
    "    input_image = DataPreprocessor.augment_image(input_image)\n",
    "    \n",
    "    for positive_image in positive_images:\n",
    "        positive_image = DataPreprocessor.augment_image(positive_image)\n",
    "        output         = model.predict(list(np.expand_dims([input_image, positive_image], axis=1)), verbose=0)\n",
    "        outputs.append(output)\n",
    "    \n",
    "    detection    = np.sum(np.array(outputs) > detection_threshold)\n",
    "    verification = detection / len(positive_images)\n",
    "    verification = verification > verification_threshold\n",
    "    \n",
    "    return outputs, verification"
   ]
  },
  {
   "cell_type": "code",
   "execution_count": 36,
   "metadata": {},
   "outputs": [],
   "source": [
    "data_loader = DataLoader()\n",
    "positive_images, _, _ = data_loader.load('positive')\n",
    "model = tf.keras.models.load_model('fr_model', custom_objects={'DistanceL2': DistanceL2, 'OneHand': OneHand})"
   ]
  },
  {
   "cell_type": "code",
   "execution_count": null,
   "metadata": {
    "tags": []
   },
   "outputs": [],
   "source": [
    "cam = cv2.VideoCapture(cv2.CAP_ANY)\n",
    "\n",
    "while cam.isOpened():\n",
    "    _, frame = cam.read()\n",
    "    frame = np.flip(frame, axis=1)\n",
    "    \n",
    "    cv2.imshow('Verification', frame)\n",
    "    x1, y1, x2, y2 = get_faces(frame)\n",
    "    \n",
    "    if cv2.waitKey(1) & 0xFF == ord('v'):\n",
    "        if x1 and y1 and x2 and y2:\n",
    "            outputs, verification = verify(frame[y1:y2, x1:x2], 0.5, 0.5)\n",
    "            print(verification)\n",
    "    elif cv2.waitKey(1) & 0xFF == ord('q'):\n",
    "        cam.release()\n",
    "\n",
    "cv2.destroyAllWindows()"
   ]
  },
  {
   "cell_type": "code",
   "execution_count": 38,
   "metadata": {},
   "outputs": [],
   "source": [
    "cam.release()\n",
    "cv2.destroyAllWindows()"
   ]
  }
 ],
 "metadata": {
  "colab": {
   "authorship_tag": "ABX9TyOAQxzyv3Es9V5eKVWzENVX",
   "collapsed_sections": [],
   "provenance": []
  },
  "kernelspec": {
   "display_name": "Python 3 (ipykernel)",
   "language": "python",
   "name": "python3"
  },
  "language_info": {
   "codemirror_mode": {
    "name": "ipython",
    "version": 3
   },
   "file_extension": ".py",
   "mimetype": "text/x-python",
   "name": "python",
   "nbconvert_exporter": "python",
   "pygments_lexer": "ipython3",
   "version": "3.10.6"
  }
 },
 "nbformat": 4,
 "nbformat_minor": 4
}
